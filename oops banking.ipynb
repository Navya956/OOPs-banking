{
 "cells": [
  {
   "cell_type": "code",
   "execution_count": 67,
   "id": "bc582908-53e9-4305-90a6-0544e5a88a23",
   "metadata": {},
   "outputs": [],
   "source": [
    "class BankAccount:\n",
    "    def __init__(self, account_number, pin, balance=0):\n",
    "        self.account_number = account_number\n",
    "        self.pin = pin\n",
    "        self.balance = balance"
   ]
  },
  {
   "cell_type": "code",
   "execution_count": 69,
   "id": "082842c7-128e-403f-8a5a-5d505d4d6053",
   "metadata": {},
   "outputs": [],
   "source": [
    "def login(self):\n",
    "    entered_pin = int(input(\"Enter your PIN: \"))  \n",
    "    if entered_pin == self.pin:\n",
    "        print(\"Login successful!\")\n",
    "        self.menu()\n",
    "    else:\n",
    "        print(\"Incorrect PIN. Login failed.\")"
   ]
  },
  {
   "cell_type": "code",
   "execution_count": 71,
   "id": "8eb4f100-ea9a-467f-b55d-a38caaef3d22",
   "metadata": {},
   "outputs": [],
   "source": [
    " def deposit(self):\n",
    "        amount = float(input(\"Enter the amount to deposit: \"))\n",
    "        self.balance += amount\n",
    "        print(f\"Amount deposited successfully. New balance: {self.balance}\")"
   ]
  },
  {
   "cell_type": "code",
   "execution_count": 73,
   "id": "c900fe51-c66a-444b-a0e9-a9cbd0a71290",
   "metadata": {},
   "outputs": [],
   "source": [
    "def withdraw(self):\n",
    "        amount = float(input(\"Enter the amount to withdraw: \"))\n",
    "        if amount <= self.balance:\n",
    "            self.balance -= amount\n",
    "            print(f\"Amount withdrawn successfully. New balance: {self.balance}\")\n",
    "        else:\n",
    "            print(\"Insufficient balance.\")"
   ]
  },
  {
   "cell_type": "code",
   "execution_count": 75,
   "id": "b9414e80-2792-41f8-905f-52e32656b9f1",
   "metadata": {},
   "outputs": [],
   "source": [
    "def check_balance(self):\n",
    "        print(f\"Your current balance is: {self.balance}\")"
   ]
  },
  {
   "cell_type": "code",
   "execution_count": 84,
   "id": "e18c40ae-7b0f-4469-bedc-d5793deabd93",
   "metadata": {},
   "outputs": [],
   "source": [
    "def menu(self):\n",
    "        while True:\n",
    "            print(\"\\nMenu:\")\n",
    "            print(\"1. Deposit\")\n",
    "            print(\"2. Withdraw\")\n",
    "            print(\"3. Check Balance\")\n",
    "            print(\"4. Exit\")"
   ]
  },
  {
   "cell_type": "code",
   "execution_count": 1,
   "id": "8cc08c46-dc82-4a78-946e-7dc34940ba68",
   "metadata": {},
   "outputs": [
    {
     "name": "stdin",
     "output_type": "stream",
     "text": [
      "Enter your choice:  1234\n"
     ]
    },
    {
     "name": "stdout",
     "output_type": "stream",
     "text": [
      "Invalid choice. Please try again.\n"
     ]
    }
   ],
   "source": [
    " choice = int(input(\"Enter your choice: \"))\n",
    "if choice == 1:\n",
    "    self.deposit()\n",
    "elif choice == 2:\n",
    "    self.withdraw()\n",
    "elif choice == 3:\n",
    "    self.check_balance()\n",
    "elif choice == 4:\n",
    "    print(\"Thank you for using our banking system.\")\n",
    "else:\n",
    "    print(\"Invalid choice. Please try again.\")"
   ]
  },
  {
   "cell_type": "code",
   "execution_count": null,
   "id": "4dd34a54-7157-4dbb-91d8-8333e335c475",
   "metadata": {},
   "outputs": [],
   "source": []
  }
 ],
 "metadata": {
  "kernelspec": {
   "display_name": "Python 3 (ipykernel)",
   "language": "python",
   "name": "python3"
  },
  "language_info": {
   "codemirror_mode": {
    "name": "ipython",
    "version": 3
   },
   "file_extension": ".py",
   "mimetype": "text/x-python",
   "name": "python",
   "nbconvert_exporter": "python",
   "pygments_lexer": "ipython3",
   "version": "3.12.4"
  }
 },
 "nbformat": 4,
 "nbformat_minor": 5
}
